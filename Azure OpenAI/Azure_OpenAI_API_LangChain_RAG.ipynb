{
 "cells": [
  {
   "cell_type": "markdown",
   "id": "7516dc96",
   "metadata": {},
   "source": [
    "# Azure OpenAI API LangChain RAG"
   ]
  },
  {
   "cell_type": "code",
   "execution_count": 2,
   "id": "e71b1a11",
   "metadata": {},
   "outputs": [],
   "source": [
    "from azure_oai_password import endpoint, deployment, model_version, subscription_key, embedding_key, embedding_endpoint\n",
    "\n",
    "import os\n",
    "import shutil\n",
    "import numpy as np\n",
    "import pandas as pd\n",
    "\n",
    "from langchain_community.document_loaders import PyPDFLoader\n",
    "from langchain.text_splitter import RecursiveCharacterTextSplitter\n",
    "from langchain_openai import AzureOpenAIEmbeddings\n",
    "from langchain.vectorstores import Chroma\n",
    "from openai import AzureOpenAI"
   ]
  },
  {
   "cell_type": "markdown",
   "id": "91b126a2",
   "metadata": {},
   "source": [
    "# Document Loading"
   ]
  },
  {
   "cell_type": "code",
   "execution_count": 3,
   "id": "ad690794",
   "metadata": {},
   "outputs": [],
   "source": [
    "loader=PyPDFLoader(r\"C:\\Users\\jobake\\Desktop\\Uno_Rules.pdf\")"
   ]
  },
  {
   "cell_type": "code",
   "execution_count": 4,
   "id": "d82b6861",
   "metadata": {},
   "outputs": [],
   "source": [
    "pages = loader.load()"
   ]
  },
  {
   "cell_type": "code",
   "execution_count": 5,
   "id": "f82df035",
   "metadata": {},
   "outputs": [
    {
     "data": {
      "text/plain": [
       "5"
      ]
     },
     "execution_count": 5,
     "metadata": {},
     "output_type": "execute_result"
    }
   ],
   "source": [
    "len(pages)"
   ]
  },
  {
   "cell_type": "code",
   "execution_count": 6,
   "id": "6b8c38ee",
   "metadata": {},
   "outputs": [
    {
     "name": "stdout",
     "output_type": "stream",
     "text": [
      "U N O\n",
      "R U L E S\n",
      "RULES.ORGUNO\n",
      "THE OFFICIAL\n",
      "THE RULES OF UNO ARE SIMPLE.HOWEVER, WE HAVE MADE IT EVENEASIER TO SURVEY THE RULES ANDADDED AN FAQ AT THE END! CHECK OUT UNORULES.ORG FOR MORE!\n",
      "RULES.ORGUNO\n",
      "PRESENTS\n"
     ]
    }
   ],
   "source": [
    "print(pages[0].page_content[0:500])"
   ]
  },
  {
   "cell_type": "code",
   "execution_count": 7,
   "id": "266ea8cf",
   "metadata": {},
   "outputs": [
    {
     "data": {
      "text/plain": [
       "{'producer': '3-Heights™ PDF Optimization Shell 6.3.1.5 (http://www.pdf-tools.com)',\n",
       " 'creator': 'Canva',\n",
       " 'creationdate': '2021-03-10T18:14:02+00:00',\n",
       " 'keywords': 'DAEXabaDBgY,BADJP-KWezs',\n",
       " 'author': 'Kamil Mastej',\n",
       " 'title': 'Uno Rules PDF - unorules.org',\n",
       " 'moddate': '2021-03-10T18:15:45+00:00',\n",
       " 'source': 'C:\\\\Users\\\\jobake\\\\Desktop\\\\Uno_Rules.pdf',\n",
       " 'total_pages': 5,\n",
       " 'page': 0,\n",
       " 'page_label': '1'}"
      ]
     },
     "execution_count": 7,
     "metadata": {},
     "output_type": "execute_result"
    }
   ],
   "source": [
    "pages[0].metadata"
   ]
  },
  {
   "cell_type": "markdown",
   "id": "00f1447e",
   "metadata": {},
   "source": [
    "# Document Splitting"
   ]
  },
  {
   "cell_type": "code",
   "execution_count": 8,
   "id": "ec5c4c0d",
   "metadata": {},
   "outputs": [],
   "source": [
    "text_splitter = RecursiveCharacterTextSplitter(\n",
    "    chunk_size=1000,\n",
    "    chunk_overlap=500,\n",
    "    length_function=len,\n",
    "    add_start_index=True\n",
    ")"
   ]
  },
  {
   "cell_type": "code",
   "execution_count": 9,
   "id": "7a9ef50e",
   "metadata": {},
   "outputs": [],
   "source": [
    "splits = text_splitter.split_documents(pages)"
   ]
  },
  {
   "cell_type": "code",
   "execution_count": 10,
   "id": "6695e6db",
   "metadata": {},
   "outputs": [
    {
     "data": {
      "text/plain": [
       "16"
      ]
     },
     "execution_count": 10,
     "metadata": {},
     "output_type": "execute_result"
    }
   ],
   "source": [
    "len(splits)"
   ]
  },
  {
   "cell_type": "markdown",
   "id": "0a77821b",
   "metadata": {},
   "source": [
    "# Embeddings"
   ]
  },
  {
   "cell_type": "code",
   "execution_count": 11,
   "id": "c36cbc65",
   "metadata": {},
   "outputs": [],
   "source": [
    "embedding = AzureOpenAIEmbeddings(api_key=embedding_key, azure_endpoint=embedding_endpoint, model=\"text-embedding-3-large\")"
   ]
  },
  {
   "cell_type": "markdown",
   "id": "388e214f",
   "metadata": {},
   "source": [
    "# Vector Stores"
   ]
  },
  {
   "cell_type": "code",
   "execution_count": 12,
   "id": "8fbf7b11",
   "metadata": {},
   "outputs": [],
   "source": [
    "vector_dir = r\"C:\\Users\\jobake\\Desktop\\chroma_dir\""
   ]
  },
  {
   "cell_type": "code",
   "execution_count": 13,
   "id": "cef11204",
   "metadata": {},
   "outputs": [],
   "source": [
    "if os.path.exists(vector_dir):\n",
    "    shutil.rmtree(vector_dir)\n",
    "    \n",
    "os.makedirs(vector_dir)"
   ]
  },
  {
   "cell_type": "code",
   "execution_count": 14,
   "id": "8305dfe2",
   "metadata": {},
   "outputs": [],
   "source": [
    "vector_db = Chroma.from_documents(\n",
    "    documents=splits,\n",
    "    embedding=embedding,\n",
    "    persist_directory=vector_dir\n",
    ")"
   ]
  },
  {
   "cell_type": "code",
   "execution_count": 15,
   "id": "43e74537",
   "metadata": {},
   "outputs": [
    {
     "name": "stdout",
     "output_type": "stream",
     "text": [
      "Splits length equal to number of Embeddings at 16\n"
     ]
    }
   ],
   "source": [
    "if len(splits)==vector_db._collection.count():\n",
    "    print(\"Splits length equal to number of Embeddings at\", len(splits))\n",
    "else:\n",
    "    print(\"Splits to Embeddings Error\")"
   ]
  },
  {
   "cell_type": "markdown",
   "id": "ad8e0295",
   "metadata": {},
   "source": [
    "# Similarity Search"
   ]
  },
  {
   "cell_type": "code",
   "execution_count": 16,
   "id": "23a06148",
   "metadata": {},
   "outputs": [],
   "source": [
    "query_text = \"When do I say uno?\"\n",
    "sims = vector_db.similarity_search_with_relevance_scores(query_text, k=3)"
   ]
  },
  {
   "cell_type": "code",
   "execution_count": 17,
   "id": "c220be35",
   "metadata": {},
   "outputs": [],
   "source": [
    "sims_results = []\n",
    "\n",
    "for sim,score in sims:\n",
    "    results_dict = {\"page_content\":sim.page_content, \"score\":score, **sim.metadata}\n",
    "    sims_results.append(results_dict)"
   ]
  },
  {
   "cell_type": "code",
   "execution_count": 18,
   "id": "96404502",
   "metadata": {},
   "outputs": [
    {
     "data": {
      "text/html": [
       "<div>\n",
       "<style scoped>\n",
       "    .dataframe tbody tr th:only-of-type {\n",
       "        vertical-align: middle;\n",
       "    }\n",
       "\n",
       "    .dataframe tbody tr th {\n",
       "        vertical-align: top;\n",
       "    }\n",
       "\n",
       "    .dataframe thead th {\n",
       "        text-align: right;\n",
       "    }\n",
       "</style>\n",
       "<table border=\"1\" class=\"dataframe\">\n",
       "  <thead>\n",
       "    <tr style=\"text-align: right;\">\n",
       "      <th></th>\n",
       "      <th>page_content</th>\n",
       "      <th>score</th>\n",
       "      <th>author</th>\n",
       "      <th>creationdate</th>\n",
       "      <th>creator</th>\n",
       "      <th>keywords</th>\n",
       "      <th>moddate</th>\n",
       "      <th>page</th>\n",
       "      <th>page_label</th>\n",
       "      <th>producer</th>\n",
       "      <th>source</th>\n",
       "      <th>start_index</th>\n",
       "      <th>title</th>\n",
       "      <th>total_pages</th>\n",
       "    </tr>\n",
       "  </thead>\n",
       "  <tbody>\n",
       "    <tr>\n",
       "      <th>0</th>\n",
       "      <td>You may not catch a player for failure to say ...</td>\n",
       "      <td>0.449086</td>\n",
       "      <td>Kamil Mastej</td>\n",
       "      <td>2021-03-10T18:14:02+00:00</td>\n",
       "      <td>Canva</td>\n",
       "      <td>DAEXabaDBgY,BADJP-KWezs</td>\n",
       "      <td>2021-03-10T18:15:45+00:00</td>\n",
       "      <td>3</td>\n",
       "      <td>4</td>\n",
       "      <td>3-Heights™ PDF Optimization Shell 6.3.1.5 (htt...</td>\n",
       "      <td>C:\\Users\\jobake\\Desktop\\Uno_Rules.pdf</td>\n",
       "      <td>1203</td>\n",
       "      <td>Uno Rules PDF - unorules.org</td>\n",
       "      <td>5</td>\n",
       "    </tr>\n",
       "    <tr>\n",
       "      <th>1</th>\n",
       "      <td>If you are not caught before the next player, ...</td>\n",
       "      <td>0.434668</td>\n",
       "      <td>Kamil Mastej</td>\n",
       "      <td>2021-03-10T18:14:02+00:00</td>\n",
       "      <td>Canva</td>\n",
       "      <td>DAEXabaDBgY,BADJP-KWezs</td>\n",
       "      <td>2021-03-10T18:15:45+00:00</td>\n",
       "      <td>3</td>\n",
       "      <td>4</td>\n",
       "      <td>3-Heights™ PDF Optimization Shell 6.3.1.5 (htt...</td>\n",
       "      <td>C:\\Users\\jobake\\Desktop\\Uno_Rules.pdf</td>\n",
       "      <td>693</td>\n",
       "      <td>Uno Rules PDF - unorules.org</td>\n",
       "      <td>5</td>\n",
       "    </tr>\n",
       "    <tr>\n",
       "      <th>2</th>\n",
       "      <td>Q: How does a challenge work in Uno?A: A chall...</td>\n",
       "      <td>0.427216</td>\n",
       "      <td>Kamil Mastej</td>\n",
       "      <td>2021-03-10T18:14:02+00:00</td>\n",
       "      <td>Canva</td>\n",
       "      <td>DAEXabaDBgY,BADJP-KWezs</td>\n",
       "      <td>2021-03-10T18:15:45+00:00</td>\n",
       "      <td>4</td>\n",
       "      <td>5</td>\n",
       "      <td>3-Heights™ PDF Optimization Shell 6.3.1.5 (htt...</td>\n",
       "      <td>C:\\Users\\jobake\\Desktop\\Uno_Rules.pdf</td>\n",
       "      <td>1186</td>\n",
       "      <td>Uno Rules PDF - unorules.org</td>\n",
       "      <td>5</td>\n",
       "    </tr>\n",
       "  </tbody>\n",
       "</table>\n",
       "</div>"
      ],
      "text/plain": [
       "                                        page_content     score        author  \\\n",
       "0  You may not catch a player for failure to say ...  0.449086  Kamil Mastej   \n",
       "1  If you are not caught before the next player, ...  0.434668  Kamil Mastej   \n",
       "2  Q: How does a challenge work in Uno?A: A chall...  0.427216  Kamil Mastej   \n",
       "\n",
       "                creationdate creator                 keywords  \\\n",
       "0  2021-03-10T18:14:02+00:00   Canva  DAEXabaDBgY,BADJP-KWezs   \n",
       "1  2021-03-10T18:14:02+00:00   Canva  DAEXabaDBgY,BADJP-KWezs   \n",
       "2  2021-03-10T18:14:02+00:00   Canva  DAEXabaDBgY,BADJP-KWezs   \n",
       "\n",
       "                     moddate  page page_label  \\\n",
       "0  2021-03-10T18:15:45+00:00     3          4   \n",
       "1  2021-03-10T18:15:45+00:00     3          4   \n",
       "2  2021-03-10T18:15:45+00:00     4          5   \n",
       "\n",
       "                                            producer  \\\n",
       "0  3-Heights™ PDF Optimization Shell 6.3.1.5 (htt...   \n",
       "1  3-Heights™ PDF Optimization Shell 6.3.1.5 (htt...   \n",
       "2  3-Heights™ PDF Optimization Shell 6.3.1.5 (htt...   \n",
       "\n",
       "                                  source  start_index  \\\n",
       "0  C:\\Users\\jobake\\Desktop\\Uno_Rules.pdf         1203   \n",
       "1  C:\\Users\\jobake\\Desktop\\Uno_Rules.pdf          693   \n",
       "2  C:\\Users\\jobake\\Desktop\\Uno_Rules.pdf         1186   \n",
       "\n",
       "                          title  total_pages  \n",
       "0  Uno Rules PDF - unorules.org            5  \n",
       "1  Uno Rules PDF - unorules.org            5  \n",
       "2  Uno Rules PDF - unorules.org            5  "
      ]
     },
     "execution_count": 18,
     "metadata": {},
     "output_type": "execute_result"
    }
   ],
   "source": [
    "sims_df = pd.DataFrame().from_dict(sims_results)\n",
    "sims_df"
   ]
  },
  {
   "cell_type": "code",
   "execution_count": 19,
   "id": "7af53b6a",
   "metadata": {},
   "outputs": [
    {
     "name": "stdout",
     "output_type": "stream",
     "text": [
      "Largest Similarity Search Score \n",
      "\n",
      "0.44908581012776283 \n",
      "\n",
      "You may not catch a player for failure to say \"UNO!\" until his/her second-to-lastcard touches the DISCARD pile. Also, you may not catch a player for failure to sayit after the next player begins his/her turn. \n",
      "\"Beginning a turn\" is defined as either drawing a card from the DRAW pile ordrawing a card from your hand to play.\n",
      "If the last card played in a hand is a Draw 2 card or Wild Draw 4 Card, the nextplayer must draw 2 or 4 cards, depending upon the card played. These cards arecounted when points are totaled.\n",
      "If no one is out of cards by the time the DRAW pile is depleted, reshuffle theDISCARD pile and continue play.\n",
      "SCORING AND WINNING\n",
      "If you are the first to get rid of all your cards, you get the points for the cards left inthe other player's hands. Record the score after each hand. Each card is worth thefollowing:\n",
      "0-9+2+2 +4+4\n",
      "20 PointsFace Value 20 Points 20 Points 50 Points 50 Points\n"
     ]
    }
   ],
   "source": [
    "print(\"Largest Similarity Search Score\", \"\\n\")\n",
    "print(sims_df[\"score\"][0], \"\\n\")\n",
    "print(sims_df[\"page_content\"][0])"
   ]
  },
  {
   "cell_type": "markdown",
   "id": "d3499cc8",
   "metadata": {},
   "source": [
    "# Prepare the LLM Prompt using RAG"
   ]
  },
  {
   "cell_type": "code",
   "execution_count": 20,
   "id": "3880b79a",
   "metadata": {},
   "outputs": [],
   "source": [
    "prompt = \"\"\"Use the following pieces of context to answer the question at the end. \n",
    "Use three sentences maximum. \n",
    "Keep the answer as concise as possible. \n",
    "Always say \"Hope this helps!\" at the end of the answer. \\n\n",
    "\"\"\""
   ]
  },
  {
   "cell_type": "code",
   "execution_count": 21,
   "id": "d12c4256",
   "metadata": {},
   "outputs": [],
   "source": [
    "context_text = \"\\n\\n---\\n\\n\".join([doc.page_content for doc, _score in sims])"
   ]
  },
  {
   "cell_type": "code",
   "execution_count": 22,
   "id": "c6a453b1",
   "metadata": {},
   "outputs": [
    {
     "name": "stdout",
     "output_type": "stream",
     "text": [
      "Use the following pieces of context to answer the question at the end. \n",
      "Use three sentences maximum. \n",
      "Keep the answer as concise as possible. \n",
      "Always say \"Hope this helps!\" at the end of the answer. \n",
      "\n",
      "You may not catch a player for failure to say \"UNO!\" until his/her second-to-lastcard touches the DISCARD pile. Also, you may not catch a player for failure to sayit after the next player begins his/her turn. \n",
      "\"Beginning a turn\" is defined as either drawing a card from the DRAW pile ordrawing a card from your hand to play.\n",
      "If the last card played in a hand is a Draw 2 card or Wild Draw 4 Card, the nextplayer must draw 2 or 4 cards, depending upon the card played. These cards arecounted when points are totaled.\n",
      "If no one is out of cards by the time the DRAW pile is depleted, reshuffle theDISCARD pile and continue play.\n",
      "SCORING AND WINNING\n",
      "If you are the first to get rid of all your cards, you get the points for the cards left inthe other player's hands. Record the score after each hand. Each card is worth thefollowing:\n",
      "0-9+2+2 +4+4\n",
      "20 PointsFace Value 20 Points 20 Points 50 Points 50 Points\n",
      "\n",
      "---\n",
      "\n",
      "If you are not caught before the next player, either draw a card from the DRAWpile or draws a card from their hand to play, you do not have to draw the extracards. \n",
      "Once a player plays their last card, the hand is over. Points are tallied (see theScoring section), and you start over again.\n",
      "Page 3\n",
      "Page 3\n",
      "RULES.ORGUNO\n",
      "GOING OUT!\n",
      "If you forget to say, \"UNO\" before your card touches the DISCARD  pile, but you\"catch\" yourself before any other player catches you, you are safe, not subject tothe 4-card penalty.\n",
      "You may not catch a player for failure to say \"UNO!\" until his/her second-to-lastcard touches the DISCARD pile. Also, you may not catch a player for failure to sayit after the next player begins his/her turn. \n",
      "\"Beginning a turn\" is defined as either drawing a card from the DRAW pile ordrawing a card from your hand to play.\n",
      "\n",
      "---\n",
      "\n",
      "Q: How does a challenge work in Uno?A: A challenge can only be made when the Wild Draw 4 card is played. If yoususpect that a player has played a Wild Draw 4 card illegally, you may challengethem. A challenged player must show his/her hand to the player who challenged. Ifthe challenged player is guilty, he/she must draw 4 cards. If the challenged player isnot guilty, the challenger must draw the 4 cards, plus 2 additional cards.\n",
      "Q: What happens if you don't say, Uno?A: Before playing your next to last card, you must say \"UNO\". If you don't say UNOand another player catches you with just one card before the next player beginstheir turn, you must pick FOUR more cards from the DRAW pile.\n",
      "Q: What is \"stacking\"?A: Stacking is allowing to play a special card upon an already played special card.Example: Player A plays a Wild Draw 4 cards. Player B also plays the Wild Draw 4cards, making Player C forced to pick up 8 cards.\n"
     ]
    }
   ],
   "source": [
    "prompt_context = prompt + context_text\n",
    "print(prompt_context)"
   ]
  },
  {
   "cell_type": "code",
   "execution_count": 23,
   "id": "ebdc6784",
   "metadata": {},
   "outputs": [],
   "source": [
    "messages = [\n",
    "    {\"role\": \"system\", \"content\": prompt_context},\n",
    "    {\"role\": \"user\", \"content\": query_text}\n",
    "]"
   ]
  },
  {
   "cell_type": "markdown",
   "id": "4d76a809",
   "metadata": {},
   "source": [
    "# Initialize Client Service with Key-Based Authentication"
   ]
  },
  {
   "cell_type": "code",
   "execution_count": 24,
   "id": "925bb401",
   "metadata": {},
   "outputs": [],
   "source": [
    "client = AzureOpenAI(\n",
    "    azure_endpoint = endpoint,\n",
    "    api_key = subscription_key,\n",
    "    api_version = model_version\n",
    ")"
   ]
  },
  {
   "cell_type": "markdown",
   "id": "d30a5989",
   "metadata": {},
   "source": [
    "# Generate Completion"
   ]
  },
  {
   "cell_type": "code",
   "execution_count": 25,
   "id": "27af8443",
   "metadata": {},
   "outputs": [],
   "source": [
    "completion = client.chat.completions.create(\n",
    "    model = deployment,\n",
    "    messages = messages,\n",
    "    max_tokens = 800,\n",
    "    temperature = 0,\n",
    "    top_p = 0.95,\n",
    "    frequency_penalty = 0,\n",
    "    presence_penalty = 0,\n",
    "    stop = None,\n",
    "    stream = False\n",
    ")"
   ]
  },
  {
   "cell_type": "code",
   "execution_count": 26,
   "id": "e9eeca0b",
   "metadata": {},
   "outputs": [
    {
     "name": "stdout",
     "output_type": "stream",
     "text": [
      "Response: \n",
      "    You must say \"UNO\" before playing your second-to-last card. If you fail to do so and another player catches you with just one card before the next player begins their turn, you must draw four more cards from the DRAW pile. Hope this helps!\n"
     ]
    }
   ],
   "source": [
    "print(\"Response:\",\"\\n   \", completion.choices[0].message.content)"
   ]
  }
 ],
 "metadata": {
  "kernelspec": {
   "display_name": "Python 3 (ipykernel)",
   "language": "python",
   "name": "python3"
  },
  "language_info": {
   "codemirror_mode": {
    "name": "ipython",
    "version": 3
   },
   "file_extension": ".py",
   "mimetype": "text/x-python",
   "name": "python",
   "nbconvert_exporter": "python",
   "pygments_lexer": "ipython3",
   "version": "3.9.13"
  }
 },
 "nbformat": 4,
 "nbformat_minor": 5
}
