{
 "cells": [
  {
   "cell_type": "markdown",
   "id": "7516dc96",
   "metadata": {},
   "source": [
    "# Azure OpenAI API RAG Storage Container"
   ]
  },
  {
   "cell_type": "code",
   "execution_count": 1,
   "id": "e371108d",
   "metadata": {},
   "outputs": [],
   "source": [
    "import os\n",
    "from openai import AzureOpenAI"
   ]
  },
  {
   "cell_type": "code",
   "execution_count": 2,
   "id": "f096198a",
   "metadata": {},
   "outputs": [],
   "source": [
    "from azure_oai_rag_password import endpoint, deployment, model_version, subscription_key, search_endpoint, search_key, search_index"
   ]
  },
  {
   "cell_type": "markdown",
   "id": "d7e9a63d",
   "metadata": {},
   "source": [
    "# Initialize Client Service with Key-Based Authentication"
   ]
  },
  {
   "cell_type": "code",
   "execution_count": 3,
   "id": "6eda2bcc",
   "metadata": {},
   "outputs": [],
   "source": [
    "client = AzureOpenAI(\n",
    "    azure_endpoint = endpoint,\n",
    "    api_key = subscription_key,\n",
    "    api_version = model_version\n",
    ")"
   ]
  },
  {
   "cell_type": "markdown",
   "id": "df231a04",
   "metadata": {},
   "source": [
    "# Prepare the Prompt"
   ]
  },
  {
   "cell_type": "code",
   "execution_count": 4,
   "id": "134eea1f",
   "metadata": {},
   "outputs": [],
   "source": [
    "instructions = \"Provide answers like a university scholar.\"\n",
    "query = \"What is the Twitter geolocation hybrid approach?\"\n",
    "\n",
    "messages = [\n",
    "    {\"role\": \"system\", \"content\": instructions},\n",
    "    {\"role\": \"user\", \"content\": query}\n",
    "]"
   ]
  },
  {
   "cell_type": "markdown",
   "id": "1c3b134b",
   "metadata": {},
   "source": [
    "# Generate Completion without Data"
   ]
  },
  {
   "cell_type": "code",
   "execution_count": 5,
   "id": "852f083c",
   "metadata": {},
   "outputs": [],
   "source": [
    "completion = client.chat.completions.create(  \n",
    "    model=deployment,\n",
    "    messages=messages,\n",
    "    max_tokens=800,  \n",
    "    temperature=0.7,  \n",
    "    top_p=0.95,  \n",
    "    frequency_penalty=0,  \n",
    "    presence_penalty=0,\n",
    "    stop=None,  \n",
    "    stream=False,\n",
    ")"
   ]
  },
  {
   "cell_type": "code",
   "execution_count": 6,
   "id": "a12d86c6",
   "metadata": {},
   "outputs": [
    {
     "name": "stdout",
     "output_type": "stream",
     "text": [
      "Instructions: \n",
      "    Provide answers like a university scholar.\n",
      "Query: \n",
      "    What is the Twitter geolocation hybrid approach?\n",
      "Response: \n",
      "    The \"Twitter geolocation hybrid approach\" refers to a methodology that combines multiple techniques or data sources to infer the geographic location of Twitter users or their tweets. This approach is particularly valuable in studies where precise geolocation information is necessary, yet direct geolocation data (e.g., GPS coordinates) is often missing or sparse. Only a small fraction of tweets (estimated to be less than 1%) include explicit geotags, so researchers and analysts must rely on hybrid methods to infer location with greater coverage and accuracy.\n",
      "\n",
      "### Components of the Hybrid Approach\n",
      "\n",
      "A hybrid approach typically integrates both explicit and implicit signals to estimate geolocation. Some of the key components include:\n",
      "\n",
      "1. **Explicit Geotags**:\n",
      "   - Some tweets include GPS coordinates or geotagged metadata provided by the user. This is the most direct and reliable source of geolocation information.\n",
      "   - However, this data is scarce, as users must enable geotagging explicitly on their devices or settings.\n",
      "\n",
      "2. **User Profile Information**:\n",
      "   - Users may specify their location in their Twitter profile's \"location\" field. This is a text-based field, which may contain structured (e.g., \"New York, USA\") or unstructured (e.g., \"The Big Apple\") data.\n",
      "   - While valuable, this information can be ambiguous, incomplete, or even intentionally misleading.\n",
      "\n",
      "3. **Tweet Content Analysis**:\n",
      "   - The content of tweets can provide geospatial clues. For example, users may mention specific places, landmarks, events, or hashtags that are tied to geographic locations (e.g., #ParisEiffelTower, \"just landed at LAX\").\n",
      "   - Natural Language Processing (NLP) techniques and gazetteers (geographic dictionaries) are often used to extract location-related keywords.\n",
      "\n",
      "4. **Social Network and Interaction Data**:\n",
      "   - Users interact with others on Twitter via mentions, replies, and retweets. If a user's connections are predominantly located in a specific region, this can serve as a proxy for their likely location.\n",
      "   - Social network analysis techniques can help infer location based on the geolocation of a user's friends or followers.\n",
      "\n",
      "5. **Temporal and Event-Based Context**:\n",
      "   - The timing of tweets can sometimes hint at location. For example, tweets posted during a specific event, such as a sports game or concert, can be correlated with known event locations.\n",
      "   - Time zones can also provide indirect geolocation clues if the timing of tweets aligns with specific regional patterns.\n",
      "\n",
      "6. **Machine Learning and Predictive Models**:\n",
      "   - Hybrid approaches often use machine learning models to combine the above features and predict user or tweet locations.\n",
      "   - Models may be trained on labeled datasets where geolocation is already known, allowing them to generalize to tweets without explicit location data.\n",
      "\n",
      "### Applications of the Hybrid Approach\n",
      "\n",
      "The Twitter geolocation hybrid approach has been widely applied in various fields, including:\n",
      "\n",
      "- **Disaster Response**: Identifying the geographic distribution of tweets during natural disasters to assist in emergency response efforts.\n",
      "- **Public Health**: Tracking the spread of diseases or public health concerns by mapping geolocated tweets.\n",
      "- **Urban Studies**: Analyzing patterns of human mobility, urban development, or sentiment across different locations.\n",
      "- **Political Analysis**: Understanding the geographic distribution of political opinions or movements based on tweet locations.\n",
      "\n",
      "### Challenges and Limitations\n",
      "\n",
      "While the hybrid approach enhances geolocation accuracy, it is not without challenges:\n",
      "\n",
      "1. **Data Sparsity**: A lack of explicit geolocation data often necessitates reliance on less precise or indirect signals.\n",
      "2. **Ambiguity and Noise**: User-provided location data and tweet content can be vague, ambiguous, or deliberately misleading.\n",
      "3. **Scalability**: Processing large volumes of tweets with hybrid methods can be computationally intensive.\n",
      "4. **Privacy Concerns**: Inferring user location raises ethical and privacy issues, especially if users have not explicitly shared their location.\n",
      "\n",
      "\n"
     ]
    }
   ],
   "source": [
    "print(\"Instructions:\",\"\\n   \", instructions)\n",
    "print(\"Query:\",\"\\n   \", query)\n",
    "print(\"Response:\",\"\\n   \", completion.choices[0].message.content)"
   ]
  },
  {
   "cell_type": "markdown",
   "id": "fa9267d3",
   "metadata": {},
   "source": [
    "# RAG - Generate Completion with Data\n",
    "\n",
    " The data used is a pdf manuscript from the ACM journal Transactions on Knowledge Discovery from Data\n",
    " \n",
    " The manuscript is titled \"Twitter Geolocation: A Hybrid Approach\""
   ]
  },
  {
   "cell_type": "code",
   "execution_count": 7,
   "id": "a8cbc30a",
   "metadata": {},
   "outputs": [],
   "source": [
    "completion = client.chat.completions.create(  \n",
    "    model=deployment,\n",
    "    messages=messages,\n",
    "    max_tokens=800,  \n",
    "    temperature=0.7,  \n",
    "    top_p=0.95,  \n",
    "    frequency_penalty=0,  \n",
    "    presence_penalty=0,\n",
    "    stop=None,  \n",
    "    stream=False,\n",
    "    extra_body={\n",
    "      \"data_sources\": [{\n",
    "          \"type\": \"azure_search\",\n",
    "          \"parameters\": {\n",
    "            \"endpoint\": search_endpoint,\n",
    "            \"index_name\": search_index,\n",
    "            \"semantic_configuration\": \"default\",\n",
    "            \"query_type\": \"semantic\",\n",
    "            \"fields_mapping\": {},\n",
    "            \"in_scope\": True,\n",
    "            \"role_information\": \"\",\n",
    "            \"filter\": None,\n",
    "            \"strictness\": 3,\n",
    "            \"top_n_documents\": 5,\n",
    "            \"authentication\": {\n",
    "              \"type\": \"api_key\",\n",
    "              \"key\": search_key\n",
    "            }\n",
    "          }\n",
    "        }]\n",
    "    }\n",
    ")"
   ]
  },
  {
   "cell_type": "code",
   "execution_count": 8,
   "id": "7e9343e3",
   "metadata": {},
   "outputs": [
    {
     "name": "stdout",
     "output_type": "stream",
     "text": [
      "Instructions: \n",
      "    Provide answers like a university scholar.\n",
      "Query: \n",
      "    What is the Twitter geolocation hybrid approach?\n",
      "Response: \n",
      "    The Twitter geolocation hybrid approach combines text-based features and network-based features to predict the geographic location of tweets, leveraging the strengths of both methodologies. This model uses Gaussian Mixture Models (GMMs) to map spatial distributions and estimate the probability of a tweet's origin within a spatial domain. It has been shown to outperform other geotagging algorithms in terms of prediction accuracy and precision [doc1][doc3].\n",
      "\n",
      "### Key Features of the Hybrid Approach:\n",
      "1. **Integration of Text and Network Information**: The model jointly utilizes text features (e.g., geographically narrow n-grams) and network features (e.g., distributions of friends) as predictors, weighting them according to their geographic scope [doc2].\n",
      "2. **Flexibility**: The approach can operate using either text or network features alone if one set is unavailable, maintaining its functionality [doc2].\n",
      "3. **Avoidance of Predefined Boundaries**: Unlike classification-based methods, it treats geotagging as a coordinate prediction problem, avoiding the use of fabricated geographic boundaries [doc2].\n",
      "4. **Scalability**: Gaussian Mixture Models employed in the hybrid approach are computationally efficient and scalable, making them suitable for large datasets [doc2].\n",
      "5. **Uncertainty Quantification**: By using Gaussian Mixture Models, the hybrid model provides probabilities for multiple potential locations, allowing for the quantification and visualization of uncertainties [doc3].\n",
      "\n",
      "### Performance:\n",
      "The hybrid model achieves high accuracy, pinpointing the origin of a tweet to within 19 km more than 50% of the time, and outperforms other models according to various metrics. It is particularly valuable for monitoring events, such as influenza outbreaks, by analyzing geotagged tweets [doc3][doc4].\n"
     ]
    }
   ],
   "source": [
    "print(\"Instructions:\",\"\\n   \", instructions)\n",
    "print(\"Query:\",\"\\n   \", query)\n",
    "print(\"Response:\",\"\\n   \", completion.choices[0].message.content)"
   ]
  }
 ],
 "metadata": {
  "kernelspec": {
   "display_name": "Python 3 (ipykernel)",
   "language": "python",
   "name": "python3"
  },
  "language_info": {
   "codemirror_mode": {
    "name": "ipython",
    "version": 3
   },
   "file_extension": ".py",
   "mimetype": "text/x-python",
   "name": "python",
   "nbconvert_exporter": "python",
   "pygments_lexer": "ipython3",
   "version": "3.9.13"
  }
 },
 "nbformat": 4,
 "nbformat_minor": 5
}
